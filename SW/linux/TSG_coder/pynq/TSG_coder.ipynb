{
 "cells": [
  {
   "cell_type": "code",
   "execution_count": null,
   "metadata": {},
   "outputs": [],
   "source": [
    "from pynq import Overlay, allocate\n",
    "from pynq.ps import Clocks\n",
    "import subprocess\n",
    "import numpy as np\n",
    "from pynq_loco_ans import TSGCoderOverlay"
   ]
  },
  {
   "cell_type": "code",
   "execution_count": null,
   "metadata": {},
   "outputs": [],
   "source": [
    "Max_freq_in_mhz = 83.33333\n",
    "# Max_freq_in_mhz = 50"
   ]
  },
  {
   "cell_type": "code",
   "execution_count": null,
   "metadata": {},
   "outputs": [],
   "source": [
    "TSG_coder = TSGCoderOverlay(\"./platform.bit\")"
   ]
  },
  {
   "cell_type": "code",
   "execution_count": null,
   "metadata": {},
   "outputs": [],
   "source": [
    "TSG_coder.clock"
   ]
  },
  {
   "cell_type": "code",
   "execution_count": null,
   "metadata": {},
   "outputs": [],
   "source": [
    "TSG_coder.clock=Max_freq_in_mhz"
   ]
  },
  {
   "cell_type": "markdown",
   "metadata": {},
   "source": [
    "### Run test"
   ]
  },
  {
   "cell_type": "code",
   "execution_count": null,
   "metadata": {
    "scrolled": true
   },
   "outputs": [],
   "source": [
    "for block_size in [2048,2048*8-1,1080*1920//4]:\n",
    "    print(\"block_size: \",block_size)\n",
    "    for block_idx in range(4):\n",
    "        status,time_prof = TSG_coder.run_test(block_size,block_idx)\n",
    "        assert status,\"Error running test: block size: %d | idx: %d\" % (block_size,block_idx)\n",
    "        print(\"\\tblk_idx: %d |Bw: %f Msymb/s\" % (block_idx, block_size/ (time_prof[\"run_hw\"]*10**6) ))"
   ]
  },
  {
   "cell_type": "code",
   "execution_count": null,
   "metadata": {},
   "outputs": [],
   "source": []
  }
 ],
 "metadata": {
  "kernelspec": {
   "display_name": "Python 3",
   "language": "python",
   "name": "python3"
  },
  "language_info": {
   "codemirror_mode": {
    "name": "ipython",
    "version": 3
   },
   "file_extension": ".py",
   "mimetype": "text/x-python",
   "name": "python",
   "nbconvert_exporter": "python",
   "pygments_lexer": "ipython3",
   "version": "3.6.5"
  }
 },
 "nbformat": 4,
 "nbformat_minor": 2
}

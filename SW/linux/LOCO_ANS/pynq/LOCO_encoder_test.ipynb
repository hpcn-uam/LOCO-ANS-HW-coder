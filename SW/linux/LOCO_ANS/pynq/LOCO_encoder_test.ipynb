{
 "cells": [
  {
   "cell_type": "code",
   "execution_count": 1,
   "metadata": {},
   "outputs": [
    {
     "data": {
      "application/javascript": [
       "\n",
       "require(['notebook/js/codecell'], function(codecell) {\n",
       "  codecell.CodeCell.options_default.highlight_modes[\n",
       "      'magic_text/x-csrc'] = {'reg':[/^%%microblaze/]};\n",
       "  Jupyter.notebook.events.one('kernel_ready.Kernel', function(){\n",
       "      Jupyter.notebook.get_cells().map(function(cell){\n",
       "          if (cell.cell_type == 'code'){ cell.auto_highlight(); } }) ;\n",
       "  });\n",
       "});\n"
      ]
     },
     "metadata": {},
     "output_type": "display_data"
    }
   ],
   "source": [
    "import numpy as np\n",
    "import cv2\n",
    "import LOCOANSOverlay\n",
    "CodecOverlay=LOCOANSOverlay.LOCOANSOverlay\n",
    "import os"
   ]
  },
  {
   "cell_type": "markdown",
   "metadata": {},
   "source": [
    "## Load overlay"
   ]
  },
  {
   "cell_type": "code",
   "execution_count": 2,
   "metadata": {},
   "outputs": [],
   "source": [
    "codec = CodecOverlay(\"./platform.bit\")"
   ]
  },
  {
   "cell_type": "code",
   "execution_count": 3,
   "metadata": {
    "scrolled": false
   },
   "outputs": [
    {
     "name": "stdout",
     "output_type": "stream",
     "text": [
      "idma  0:  Idle, \n",
      "idma  1:  Idle, \n",
      "odma  0:  Idle, \n",
      "odma  1:  Idle, \n",
      "decorrelator  0:  Idle, \n",
      "decorrelator  1:  Idle, \n"
     ]
    }
   ],
   "source": [
    "codec.print_codec_status()"
   ]
  },
  {
   "cell_type": "markdown",
   "metadata": {},
   "source": [
    "## Set clocks\n",
    "Adjust clk0 and clk1 according to the implementation results"
   ]
  },
  {
   "cell_type": "code",
   "execution_count": 4,
   "metadata": {},
   "outputs": [],
   "source": [
    "target=\"pynq_z2\""
   ]
  },
  {
   "cell_type": "code",
   "execution_count": 5,
   "metadata": {},
   "outputs": [
    {
     "name": "stdout",
     "output_type": "stream",
     "text": [
      "Decorrelator clock: 83.333333\n",
      "TSG coder clock: 166.666667\n"
     ]
    },
    {
     "name": "stderr",
     "output_type": "stream",
     "text": [
      "/usr/local/lib/python3.6/dist-packages/pynq/ps.py:312: UserWarning: Setting frequency to the closet possible value 83.33333MHz.\n",
      "  round(freq_high / q0, 5)))\n",
      "/usr/local/lib/python3.6/dist-packages/pynq/ps.py:312: UserWarning: Setting frequency to the closet possible value 166.66667MHz.\n",
      "  round(freq_high / q0, 5)))\n"
     ]
    }
   ],
   "source": [
    "set_clock=True\n",
    "if target== \"zcu104\":\n",
    "    decorr_clk_in_mhz = 250\n",
    "    tsg_c_clk_in_mhz = 450\n",
    "    if set_clock:\n",
    "        codec.clock0=decorr_clk_in_mhz\n",
    "        codec.clock2=tsg_c_clk_in_mhz\n",
    "\n",
    "        print(\"Decorrelator clock:\",codec.clock0)\n",
    "        print(\"TSG coder clock:\",codec.clock2)\n",
    "\n",
    "elif target== \"pynq_z2\":\n",
    "    decorr_clk_in_mhz = 80\n",
    "    tsg_c_clk_in_mhz = 180\n",
    "    if set_clock:\n",
    "        codec.clock0=decorr_clk_in_mhz\n",
    "        codec.clock1=tsg_c_clk_in_mhz\n",
    "\n",
    "    print(\"Decorrelator clock:\",codec.clock0)\n",
    "    print(\"TSG coder clock:\",codec.clock1)"
   ]
  },
  {
   "cell_type": "markdown",
   "metadata": {},
   "source": [
    "## Run tests"
   ]
  },
  {
   "cell_type": "markdown",
   "metadata": {},
   "source": [
    "### Test images"
   ]
  },
  {
   "cell_type": "markdown",
   "metadata": {},
   "source": [
    "Create a `images` folder, and place images inside of it"
   ]
  },
  {
   "cell_type": "code",
   "execution_count": 6,
   "metadata": {
    "scrolled": true
   },
   "outputs": [
    {
     "name": "stdout",
     "output_type": "stream",
     "text": [
      "Image:  1000x1320_ales-krivec-434.pgm\n",
      "\tNear  0  | Bw: 81.698980 Mpixels/s | bpp: 4.293\n",
      "\tNear  1  | Bw: 81.813649 Mpixels/s | bpp: 2.801\n",
      "\tNear  2  | Bw: 81.801004 Mpixels/s | bpp: 2.183\n",
      "\tNear  3  | Bw: 81.809259 Mpixels/s | bpp: 1.815\n",
      "\tNear  4  | Bw: 81.785001 Mpixels/s | bpp: 1.557\n"
     ]
    }
   ],
   "source": [
    "iters = 1\n",
    "img_dir=\"./images/\"\n",
    "max_near= 4\n",
    "max_near = max_near if max_near<= codec.max_near else codec.max_near\n",
    "for file in os.listdir(img_dir):\n",
    "    if not (file.endswith(\".pgm\")):\n",
    "        continue\n",
    "    image_name = str(file)\n",
    "    image_path = img_dir+ image_name\n",
    "    print(\"Image: \",file)\n",
    "    \n",
    "    for near in range(max_near+1):\n",
    "        print(\"\\tNear \",near,\" | \",end=\"\")\n",
    "        codec.near = near\n",
    "        status,time_prof = codec.run_test(image_path,iters)\n",
    "        correct, max_error = status\n",
    "        assert correct,\"Error running test using file %s with near %d: peak error: %d \" % (\n",
    "                image_name,near, max_error)\n",
    "\n",
    "        img_pxs= codec.input_img.flatten().size\n",
    "        bpp=codec.get_bpp() \n",
    "        print(\"Bw: %f Mpixels/s | bpp: %5.3f\" % (img_pxs/ (time_prof[\"run_hw\"]*10**6),bpp))\n",
    "        \n"
   ]
  },
  {
   "cell_type": "markdown",
   "metadata": {},
   "source": [
    "### Constant images"
   ]
  },
  {
   "cell_type": "code",
   "execution_count": 8,
   "metadata": {
    "scrolled": true
   },
   "outputs": [
    {
     "name": "stdout",
     "output_type": "stream",
     "text": [
      "Size  10 x 10\n",
      "\tBw: 0.280260 Mpixels/s | bpp: 2.720\n",
      "Size  100 x 100\n",
      "\tBw: 24.249608 Mpixels/s | bpp: 0.067\n",
      "Size  1000 x 1000\n",
      "\tBw: 81.319642 Mpixels/s | bpp: 0.035\n",
      "Size  1500 x 1500\n",
      "\tBw: 82.439386 Mpixels/s | bpp: 0.035\n"
     ]
    }
   ],
   "source": [
    "iters = 5\n",
    "codec.near = 0\n",
    "for size in [10,100,1000,1500]: \n",
    "    print(\"Size \",size,\"x\",size)\n",
    "    status,time_prof = codec.run_test(cols=size,rows=size,random_image=False,run_iterations=iters)\n",
    "    correct, max_error = status\n",
    "    assert correct,\"Error running test using size %s with near %d: peak error: %d \" % (\n",
    "            image_nsizeame,near, max_error)\n",
    "    \n",
    "    img_pxs= codec.input_img.flatten().size\n",
    "    bpp=codec.get_bpp() \n",
    "    print(\"\\tBw: %f Mpixels/s | bpp: %5.3f\" % (img_pxs/ (time_prof[\"run_hw\"]*10**6),bpp))\n",
    "    "
   ]
  },
  {
   "cell_type": "markdown",
   "metadata": {},
   "source": [
    "### Random images"
   ]
  },
  {
   "cell_type": "code",
   "execution_count": 9,
   "metadata": {
    "scrolled": true
   },
   "outputs": [
    {
     "name": "stdout",
     "output_type": "stream",
     "text": [
      "Size:  10\n",
      "\tNear  0  | Bw: 0.251936 Mpixels/s | bpp: 18.480\n",
      "\tNear  1  | Bw: 0.261884 Mpixels/s | bpp: 13.440\n",
      "Size:  100\n",
      "\tNear  0  | Bw: 17.039346 Mpixels/s | bpp: 9.235\n",
      "\tNear  1  | Bw: 20.540879 Mpixels/s | bpp: 7.324\n",
      "Size:  1000\n",
      "\tNear  0  | Bw: 45.282839 Mpixels/s | bpp: 8.655\n",
      "\tNear  1  | Bw: 76.820710 Mpixels/s | bpp: 6.907\n"
     ]
    }
   ],
   "source": [
    "iters = 1\n",
    "max_near=1\n",
    "np.random.seed(0)\n",
    "max_near = max_near if max_near<= codec.max_near else codec.max_near\n",
    "for size in [10,100,1000]:\n",
    "    print(\"Size: \",size)\n",
    "    rows=size\n",
    "    cols=size\n",
    "    for near in range(max_near+1):\n",
    "        print(\"\\tNear \",near,\" | \",end=\"\")\n",
    "        codec.near = near\n",
    "        status,time_prof = codec.run_test(cols=cols,rows=rows,random_image=True,run_iterations=iters)\n",
    "        correct, max_error = status\n",
    "        assert correct,\"Error running test using size %s with near %d: peak error: %d \" % (\n",
    "                image_nsizeame,near, max_error)\n",
    "\n",
    "        img_pxs= codec.input_img.flatten().size\n",
    "        bpp=codec.get_bpp() \n",
    "        print(\"Bw: %f Mpixels/s | bpp: %5.3f\" % (img_pxs/ (time_prof[\"run_hw\"]*10**6),bpp))\n"
   ]
  },
  {
   "cell_type": "code",
   "execution_count": null,
   "metadata": {},
   "outputs": [],
   "source": []
  }
 ],
 "metadata": {
  "kernelspec": {
   "display_name": "Python 3",
   "language": "python",
   "name": "python3"
  },
  "language_info": {
   "codemirror_mode": {
    "name": "ipython",
    "version": 3
   },
   "file_extension": ".py",
   "mimetype": "text/x-python",
   "name": "python",
   "nbconvert_exporter": "python",
   "pygments_lexer": "ipython3",
   "version": "3.6.5"
  }
 },
 "nbformat": 4,
 "nbformat_minor": 2
}

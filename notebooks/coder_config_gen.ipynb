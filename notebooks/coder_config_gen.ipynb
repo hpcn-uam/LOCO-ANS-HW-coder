{
 "cells": [
  {
   "cell_type": "markdown",
   "metadata": {},
   "source": [
    "# LOCO-ANS codec configuration generation\n",
    "This jupyter notebook allows to interactivebly select the coder parameters and generate the configuration file and tANS tables for LOCO-ANS hardware encoder and sofware codec\n",
    "\n",
    "## Publications\n",
    "This work has associated publications:\n",
    "\n",
    "### Algorithm:\n",
    "\n",
    "- Title: \"LOCO-ANS: An optimization of JPEG-LS using an efficient and low complexity coder based on ANS\"\n",
    "- Authors: Tobías Alonso, Gustavo Sutter, and Jorge E. López de Vergara\n",
    "- [IEEE ACCESS publication](https://ieeexplore.ieee.org/document/9499046)\n",
    "- [GitHub Repository](https://github.com/hpcn-uam/LOCO-ANS)\n",
    "\n",
    "### Hardware implementation:\n",
    "\n",
    "- Title: \"An FPGA-based LOCO-ANS Implementation for Lossless and Near-Lossless Image Compression Using High-Level Synthesis\"\n",
    "- Authors: Tobías Alonso, Gustavo Sutter, and Jorge E. López de Vergara\n",
    "\n"
   ]
  },
  {
   "cell_type": "code",
   "execution_count": null,
   "metadata": {},
   "outputs": [],
   "source": [
    "import numpy as np\n",
    "import jpegls_ans\n",
    "import os"
   ]
  },
  {
   "cell_type": "code",
   "execution_count": null,
   "metadata": {},
   "outputs": [],
   "source": [
    "NOTEBOOK_DIR = os.getcwd()\n",
    "REPO_DIR = os.path.dirname(NOTEBOOK_DIR)\n",
    "\n",
    "DEST_FOLDER = REPO_DIR + \"/modules/\"\n",
    "DEST_FOLDER_TABLES=DEST_FOLDER+\"/ANS_tables\"\n",
    "\n",
    "y_output_encoder_file = DEST_FOLDER_TABLES+ \"/tANS_y_encoder_table.dat\"  \n",
    "y_output_decoder_file = DEST_FOLDER_TABLES +\"/tANS_y_decoder_table.dat\"\n",
    "\n",
    "z_output_encoder_file = DEST_FOLDER_TABLES+ \"/tANS_z_encoder_table.dat\"  \n",
    "z_output_decoder_file = DEST_FOLDER_TABLES +\"/tANS_z_decoder_table.dat\"\n",
    "\n",
    "HW_coder_config_file =DEST_FOLDER+\"/user_config.hpp\"\n",
    "\n",
    "\n",
    "\n",
    "#sw config\n",
    "SW_DEST_FOLDER = REPO_DIR+\"/SW/linux/LOCO_ANS/pynq/loco_ans_codec/src\"\n",
    "SW_DEST_FOLDER_TABLES=SW_DEST_FOLDER+\"/ANS_tables\"\n",
    "\n",
    "sw_y_output_encoder_file = SW_DEST_FOLDER_TABLES+ \"/tANS_y_encoder_table.dat\"  \n",
    "sw_y_output_decoder_file = SW_DEST_FOLDER_TABLES +\"/tANS_y_decoder_table.dat\"\n",
    "\n",
    "sw_z_output_encoder_file = SW_DEST_FOLDER_TABLES+ \"/tANS_z_encoder_table.dat\"  \n",
    "sw_z_output_decoder_file = SW_DEST_FOLDER_TABLES +\"/tANS_z_decoder_table.dat\"\n",
    "SW_coder_config_file =SW_DEST_FOLDER+\"/coder_config.h\"\n"
   ]
  },
  {
   "cell_type": "markdown",
   "metadata": {},
   "source": [
    "# Settings\n",
    "\n",
    "Choose one of the configurations used in the publication or create a custom one"
   ]
  },
  {
   "cell_type": "code",
   "execution_count": null,
   "metadata": {},
   "outputs": [],
   "source": [
    "HW_tables = True # implements HW optimizations\n",
    "\n",
    "ARCH=32 # 32 for zynq 7, 64 for zup\n",
    "INPUT_BPP = 8\n",
    "max_iters = 7 #INPUT_BPP-1\n",
    "buffer_size = 2048"
   ]
  },
  {
   "cell_type": "code",
   "execution_count": null,
   "metadata": {},
   "outputs": [],
   "source": [
    "Configuration = \"Ntc6_Stcg8_ANS7\"\n",
    "\n",
    "if Configuration == \"10_bit_coarse_grain_16bit\":\n",
    "    max_iters = 15\n",
    "    ANS_STATE_SIZE=10\n",
    "    # y coding\n",
    "    Nt_PRECISION = 6\n",
    "    Half_Bernuulli_coder=False \n",
    "    Nt_quantizer_centered=True\n",
    "\n",
    "    # z coding\n",
    "    St_PRECISION = 9\n",
    "    St_extra_precision = 1\n",
    "    MAX_ST = 3000\n",
    "    MAX_CARDINALITY=64\n",
    "elif Configuration == \"9_bit_coarse_grain_16bit\":\n",
    "    max_iters = 15\n",
    "    ANS_STATE_SIZE=9\n",
    "    # y coding\n",
    "    Nt_PRECISION = 6\n",
    "    Half_Bernuulli_coder=False \n",
    "    Nt_quantizer_centered=True\n",
    "\n",
    "    # z coding\n",
    "    St_PRECISION = 9\n",
    "    St_extra_precision = 1\n",
    "    MAX_ST = 2000\n",
    "    MAX_CARDINALITY=32\n",
    "elif Configuration == \"8_bit_coarse_grain_16bit\":\n",
    "    max_iters = 15\n",
    "    ANS_STATE_SIZE=8\n",
    "    # y coding\n",
    "    Nt_PRECISION = 6\n",
    "    Half_Bernuulli_coder=False \n",
    "    Nt_quantizer_centered=True\n",
    "\n",
    "    # z coding\n",
    "    St_PRECISION = 9\n",
    "    St_extra_precision = 1\n",
    "    MAX_ST = 1000\n",
    "    MAX_CARDINALITY=32\n",
    "elif Configuration == \"Ntc6_Stfg8_ANS7\":\n",
    "    ANS_STATE_SIZE=7\n",
    "    # y coding\n",
    "    Nt_PRECISION = 6\n",
    "    Half_Bernuulli_coder=False \n",
    "    Nt_quantizer_centered=True\n",
    "\n",
    "    # z coding\n",
    "    St_PRECISION = 8\n",
    "    St_extra_precision = 2\n",
    "    MAX_ST = 100\n",
    "    MAX_CARDINALITY=8\n",
    "elif Configuration == \"Ntc6_Stcg8_ANS7\":\n",
    "    ANS_STATE_SIZE=7\n",
    "    # y coding\n",
    "    Nt_PRECISION = 6\n",
    "    Half_Bernuulli_coder=False \n",
    "    Nt_quantizer_centered=True\n",
    "\n",
    "    # z coding\n",
    "    St_PRECISION = 8\n",
    "    St_extra_precision = 1\n",
    "    MAX_ST = 100\n",
    "    MAX_CARDINALITY=8\n",
    "elif Configuration == \"Ntc6_Stcg7_ANS6\":\n",
    "    ANS_STATE_SIZE=6\n",
    "    # y coding\n",
    "    Nt_PRECISION = 6\n",
    "    Half_Bernuulli_coder=False \n",
    "    Nt_quantizer_centered=True\n",
    "\n",
    "    # z coding\n",
    "    St_PRECISION = 7\n",
    "    St_extra_precision = 1\n",
    "    MAX_ST = 100\n",
    "    MAX_CARDINALITY=8\n",
    "elif Configuration == \"Ntc5_Stfg6_ANS5\":\n",
    "    ANS_STATE_SIZE=5\n",
    "    # y coding\n",
    "    Nt_PRECISION = 5\n",
    "    Half_Bernuulli_coder=False \n",
    "    Nt_quantizer_centered=True\n",
    "\n",
    "    # z coding\n",
    "    St_PRECISION = 6\n",
    "    St_extra_precision = 2\n",
    "    MAX_ST = 64\n",
    "    MAX_CARDINALITY=8\n",
    "elif Configuration == \"Ntc5_Stcg6_ANS5\":\n",
    "    ANS_STATE_SIZE=5\n",
    "    # y coding\n",
    "    Nt_PRECISION = 5\n",
    "    Half_Bernuulli_coder=False \n",
    "    Nt_quantizer_centered=True\n",
    "\n",
    "    # z coding\n",
    "    St_PRECISION = 6\n",
    "    St_extra_precision = 1\n",
    "    MAX_ST = 100\n",
    "    MAX_CARDINALITY=8\n",
    "elif Configuration == \"Ntc4_Stcg5_ANS4\":\n",
    "    ANS_STATE_SIZE=4\n",
    "    # y coding\n",
    "    Nt_PRECISION = 4\n",
    "    Half_Bernuulli_coder=False \n",
    "    Nt_quantizer_centered=True\n",
    "\n",
    "    # z coding\n",
    "    St_PRECISION = 5\n",
    "    St_extra_precision = 1\n",
    "    MAX_ST = 32\n",
    "    MAX_CARDINALITY=8\n",
    "else:\n",
    "    assert False, \"Unknown configuration\"\n"
   ]
  },
  {
   "cell_type": "code",
   "execution_count": null,
   "metadata": {},
   "outputs": [],
   "source": [
    "Half_Bernuulli_coder=True"
   ]
  },
  {
   "cell_type": "markdown",
   "metadata": {},
   "source": [
    "## Get sets of reconstruction values"
   ]
  },
  {
   "cell_type": "code",
   "execution_count": null,
   "metadata": {},
   "outputs": [],
   "source": [
    "Max_Nt_idx = (1<<(Nt_PRECISION-1)) -1\n",
    "p_modes = jpegls_ans.get_p_modes(Nt_PRECISION,Nt_quantizer_centered,Max_Nt_idx,Half_Bernuulli_coder)\n",
    "\n",
    "if St_extra_precision ==1:\n",
    "    St_modes = jpegls_ans.get_St_modes_const_ratio(St_PRECISION,MAX_ST)\n",
    "elif St_extra_precision ==2:\n",
    "    St_modes = jpegls_ans.get_St_modes_const_ratio_uniform_1(St_PRECISION,MAX_ST)\n",
    "else:\n",
    "    assert False, \" not supported\"\n",
    "\n",
    "print(\"Len p_modes:\",len(p_modes))\n",
    "print(\"St_modes| len:\",len(St_modes),\" | Min St: %.2e\" % St_modes[0],\" | Max St (theta): %.2f (%.4f)\" % (St_modes[len(St_modes)-1],St_modes[len(St_modes)-1]/(St_modes[len(St_modes)-1]+1)) )"
   ]
  },
  {
   "cell_type": "markdown",
   "metadata": {},
   "source": [
    "## Get tables to code y variable"
   ]
  },
  {
   "cell_type": "code",
   "execution_count": null,
   "metadata": {},
   "outputs": [],
   "source": [
    "# y coding\n",
    "# TODO: optimize max_code_len. It can be higher that ANS_STATE_SIZE\n",
    "y_ANS_encode_tables,y_ANS_decode_tables =  jpegls_ans.get_adaptable_ANS_tables(\n",
    "                        ANS_address_size = ANS_STATE_SIZE,\n",
    "                       ec_modes = p_modes, \n",
    "                       symbol_source_generator = lambda p : [1-p,p], # p = P(y==1)\n",
    "                       max_src_card = 2)\n"
   ]
  },
  {
   "cell_type": "markdown",
   "metadata": {},
   "source": [
    "## Get tables to code z variable\n"
   ]
  },
  {
   "cell_type": "code",
   "execution_count": null,
   "metadata": {},
   "outputs": [],
   "source": [
    "# z coding\n",
    "max_z_coder_card = jpegls_ans.get_max_z_coder_cardinality(St_modes,ANS_STATE_SIZE,MAX_CARDINALITY)\n",
    "# TODO: optimize max_code_len. I t can be higher that ANS_STATE_SIZE\n",
    "z_ANS_encode_tables,z_ANS_decode_tables =  jpegls_ans.get_adaptable_ANS_tables(\n",
    "                            ANS_address_size = ANS_STATE_SIZE,\n",
    "                           ec_modes = St_modes, \n",
    "                           symbol_source_generator = lambda St : jpegls_ans.get_symbol_src_geo(\n",
    "                                       (St/(St+1)),max_code_len=ANS_STATE_SIZE,max_symbols=max_z_coder_card,\n",
    "                                       just_pow_of_2 = True,min_symbols=2),\n",
    "                           max_src_card = max_z_coder_card,HW_tables=HW_tables)\n"
   ]
  },
  {
   "cell_type": "markdown",
   "metadata": {},
   "source": [
    "### Get array of source cardinality per theta_q"
   ]
  },
  {
   "cell_type": "code",
   "execution_count": null,
   "metadata": {},
   "outputs": [],
   "source": [
    "cardinality_array_strings = jpegls_ans.get_cardinality_array(St_modes,ANS_STATE_SIZE,max_z_coder_card)"
   ]
  },
  {
   "cell_type": "markdown",
   "metadata": {},
   "source": [
    "## Create configuration"
   ]
  },
  {
   "cell_type": "code",
   "execution_count": null,
   "metadata": {},
   "outputs": [],
   "source": [
    "def function_set_config(config,config_type=\"hw\"):\n",
    "  if St_extra_precision ==1:\n",
    "      config = config.replace(\"$CTX_ST_FINER_QUANT$\",\"false\" )\n",
    "  elif St_extra_precision ==2:\n",
    "      config = config.replace(\"$CTX_ST_FINER_QUANT$\",\"true\" )\n",
    "  else:\n",
    "      assert False, \" not supported\"\n",
    "\n",
    "      #define ANS_MAX_SRC_CARDINALITY (1 + 8)\n",
    "  config = config.replace(\"$INPUT_BPP$\",str(INPUT_BPP) )\n",
    "  config = config.replace(\"$CTX_ST_PRECISION$\",str(St_PRECISION) )\n",
    "  config = config.replace(\"$MAX_ST_IDX$\", str(len(St_modes)-1))\n",
    "  config = config.replace(\"$CTX_NT_CENTERED_QUANT$\",\"true\" if Nt_quantizer_centered else \"false\")\n",
    "  config = config.replace(\"$CTX_NT_PRECISION$\",str(Nt_PRECISION))\n",
    "  config = config.replace(\"$HALF_Y_CODER$\",\"true\" if Half_Bernuulli_coder else \"false\")\n",
    "\n",
    "\n",
    "  # ANS coder \n",
    "  config = config.replace(\"$ANS_MAX_SRC_CARDINALITY$\",str(MAX_CARDINALITY+1) )\n",
    "  config = config.replace(\"$EE_MAX_ITERATIONS$\",str(max_iters) )\n",
    "  config = config.replace(\"$EE_BUFFER_SIZE$\",str(buffer_size))\n",
    "  config = config.replace(\"$NUM_ANS_THETA_MODES$\",str(len(St_modes)))\n",
    "  config = config.replace(\"$NUM_ANS_P_MODES$\",str(Max_Nt_idx+1) )\n",
    "  config = config.replace(\"$NUM_ANS_STATES$\",str(2**ANS_STATE_SIZE))\n",
    "  \n",
    "  if config_type == \"hw\":\n",
    "    config = config.replace(\"$P_SIZE$\",str(int(np.ceil(np.log2(Max_Nt_idx+1)))))\n",
    "    config = config.replace(\"$THETA_SIZE$\",str(int(np.ceil(np.log2(len(St_modes))))))\n",
    "    config = config.replace(\"$NUM_ANS_BITS$\",str(ANS_STATE_SIZE))\n",
    "    config = config.replace(\"$LOG2_ANS_BITS$\",str(int(np.ceil(np.log2(ANS_STATE_SIZE+2)))))\n",
    "    \n",
    "  \n",
    "  config = config.replace(\"$CARDINALITY_ARRAYS$\",cardinality_array_strings)\n",
    "  \n",
    "  if config_type == \"sw\":\n",
    "    config = config.replace(\"$ARCH$\",str(ARCH))\n",
    "  \n",
    "  return config\n",
    "\n",
    "#HW config\n",
    "hw_config = jpegls_ans.hw_template_config\n",
    "hw_config = function_set_config(hw_config,config_type=\"hw\")\n",
    "\n",
    "\n",
    "sw_config = jpegls_ans.sw_template_config\n",
    "sw_config = function_set_config(sw_config,config_type=\"sw\")\n"
   ]
  },
  {
   "cell_type": "markdown",
   "metadata": {},
   "source": [
    "## Store configuration files"
   ]
  },
  {
   "cell_type": "code",
   "execution_count": null,
   "metadata": {},
   "outputs": [],
   "source": [
    "#HW\n",
    "# y tables\n",
    "jpegls_ans.store_adaptative_ANS_encoding_tables(y_output_encoder_file,y_ANS_encode_tables,p_modes)    \n",
    "jpegls_ans.store_adaptative_ANS_decoding_tables(y_output_decoder_file,y_ANS_decode_tables,p_modes)\n",
    "# z tables\n",
    "jpegls_ans.store_adaptative_ANS_encoding_tables(z_output_encoder_file,z_ANS_encode_tables,St_modes)\n",
    "jpegls_ans.store_adaptative_ANS_decoding_tables(z_output_decoder_file,z_ANS_decode_tables,St_modes)\n",
    "\n",
    "#config file\n",
    "with open(HW_coder_config_file, \"w\") as f:\n",
    "    f.write(hw_config)\n",
    "   \n",
    "  \n",
    "  \n",
    "#SW \n",
    "\n",
    "# y tables\n",
    "jpegls_ans.store_adaptative_ANS_encoding_tables(sw_y_output_encoder_file,y_ANS_encode_tables,p_modes)    \n",
    "jpegls_ans.store_adaptative_ANS_decoding_tables(sw_y_output_decoder_file,y_ANS_decode_tables,p_modes)\n",
    "# z tables\n",
    "jpegls_ans.store_adaptative_ANS_encoding_tables(sw_z_output_encoder_file,z_ANS_encode_tables,St_modes)\n",
    "jpegls_ans.store_adaptative_ANS_decoding_tables(sw_z_output_decoder_file,z_ANS_decode_tables,St_modes)\n",
    "\n",
    "with open(SW_coder_config_file, \"w\") as f:\n",
    "    f.write(sw_config)"
   ]
  },
  {
   "cell_type": "code",
   "execution_count": null,
   "metadata": {},
   "outputs": [],
   "source": []
  }
 ],
 "metadata": {
  "kernelspec": {
   "display_name": "Python 3",
   "language": "python",
   "name": "python3"
  },
  "language_info": {
   "codemirror_mode": {
    "name": "ipython",
    "version": 3
   },
   "file_extension": ".py",
   "mimetype": "text/x-python",
   "name": "python",
   "nbconvert_exporter": "python",
   "pygments_lexer": "ipython3",
   "version": "3.6.9"
  }
 },
 "nbformat": 4,
 "nbformat_minor": 4
}
